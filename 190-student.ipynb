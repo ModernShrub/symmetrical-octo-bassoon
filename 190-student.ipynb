{
 "cells": [
  {
   "cell_type": "code",
   "execution_count": null,
   "metadata": {},
   "outputs": [],
   "source": [
    "print(\"Name : \")"
   ]
  },
  {
   "cell_type": "code",
   "execution_count": null,
   "metadata": {},
   "outputs": [],
   "source": [
    "import numpy as np\n",
    "import pandas as pd\n",
    "from matplotlib import pyplot as plt\n",
    "print(\"Modules imported\")\n",
    "\n",
    "bmidf = pd.read_csv(\"bmi.csv\")\n",
    "print(\"df read\")\n",
    "\n",
    "top_5 = bmidf.head(5)\n",
    "print(top_5)\n",
    "name = top_5['Age']\n",
    "number = top_5['BMI']\n",
    "\n",
    "\n",
    "plt.xlabel(\"AGE\")\n",
    "plt.xticks(rotation='horizontal')\n",
    "plt.ylabel(\"BMI\")\n",
    "\n",
    "\n",
    "label = name\n",
    "value = number \n",
    "plt.bar(label, value,width=0.4, color=('green','pink','yellow'))"
   ]
  },
  {
   "cell_type": "code",
   "execution_count": null,
   "metadata": {},
   "outputs": [],
   "source": [
    "#Task 2\n",
    "#Data is sorted in descending order in accordance with BMI value\n",
    "#Find the top 5 age group where the BMI value is the highest, and plot a bar graph out of it\n",
    "\n"
   ]
  },
  {
   "cell_type": "code",
   "execution_count": null,
   "metadata": {},
   "outputs": [],
   "source": [
    "import numpy as np\n",
    "import pandas as pd\n",
    "from matplotlib import pyplot as plt\n",
    "print(\"Modules imported\")\n",
    "\n",
    "bpdf = pd.read_csv(\"blood_pressure.csv\")\n",
    "print(\"df read\")\n",
    "\n",
    "top_5 = bpdf.tail(5)\n",
    "print(top_5)\n",
    "name = top_5['Age']\n",
    "number = top_5['BMI']\n",
    "\n",
    "\n",
    "plt.xlabel(\"AGE\")\n",
    "plt.xticks(rotation='horizontal')\n",
    "plt.ylabel(\"BMI\")\n",
    "\n",
    "\n",
    "label = name\n",
    "value = number \n",
    "plt.bar(label, value,width=0.4, color=('red', 'blue', 'green','pink','yellow'))"
   ]
  },
  {
   "cell_type": "code",
   "execution_count": null,
   "metadata": {},
   "outputs": [],
   "source": [
    "#Task 4\n",
    "#Data is sorted in ascending order in accordance with Blood Pressure\n",
    "#Find the top 5 age group where the BloodPressure value is the highest, and plot a bar graph out of it\n",
    "\n"
   ]
  },
  {
   "cell_type": "code",
   "execution_count": null,
   "metadata": {},
   "outputs": [],
   "source": [
    "import numpy as np\n",
    "import pandas as pd\n",
    "print('modules imported')\n",
    "\n",
    "insdf = pd.read_csv('insulin.csv')\n",
    "print('df read')\n",
    "\n",
    "top_1 = insdf.head(1)\n",
    "print(top_1)\n",
    "\n",
    "print(\"When Insulin is the highest Glucose is: \" + str(top_1['Glucose']))\n",
    "print(\"When Insulin is the highest BMI is: \" + str(top_1['BMI']))\n"
   ]
  },
  {
   "cell_type": "code",
   "execution_count": null,
   "metadata": {},
   "outputs": [],
   "source": [
    "#Task 6\n",
    "#Data is sorted in descending order in accordance with Insulin value\n",
    "#Find out what will be the Glucose and BMI value when the Insulin is highest\n",
    "\n"
   ]
  },
  {
   "cell_type": "code",
   "execution_count": null,
   "metadata": {},
   "outputs": [],
   "source": []
  },
  {
   "cell_type": "code",
   "execution_count": null,
   "metadata": {},
   "outputs": [],
   "source": []
  }
 ],
 "metadata": {
  "kernelspec": {
   "display_name": "Python 3",
   "language": "python",
   "name": "python3"
  },
  "language_info": {
   "codemirror_mode": {
    "name": "ipython",
    "version": 3
   },
   "file_extension": ".py",
   "mimetype": "text/x-python",
   "name": "python",
   "nbconvert_exporter": "python",
   "pygments_lexer": "ipython3",
   "version": "3.9.5"
  }
 },
 "nbformat": 4,
 "nbformat_minor": 4
}
